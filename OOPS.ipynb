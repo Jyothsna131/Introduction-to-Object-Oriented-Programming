{
 "cells": [
  {
   "cell_type": "markdown",
   "metadata": {},
   "source": [
    " # OOP (Object Oriented Programming)\n",
    " - A method of structuring a program by bundling related properties and behaviors into individual objects.   \n",
    " - Binds together the data and the functions that operate on them so that no other part of the code can access\n",
    " this data except that function.  \n",
    " - Designs the program using classes and objects.  \n",
    " - Focuses on writing the reusable code and implementing real-world entities like inheritance, hiding, polymorphism, etc., in \n",
    " programming.\n",
    " \n",
    "    \n",
    "### Class:\n",
    " It is a:\n",
    " - user-defined prototype for an object that defines a set of attributes that characterize any object of the class.\n",
    " - representation of the type of object. \n",
    " - blueprint/template that describes the details of an object\n",
    " - logical entity that has some specific attributes(variables) and methods(functions)\n",
    " \n",
    " When a class is defined, no memory or storage allocation will be there. It can be created only once.\n",
    " \n",
    "### Object:\n",
    " \n",
    " - It is an instance of a class  \n",
    " - Real-world entity\n",
    " - Every object has two things: \n",
    "         - 1. Attributes(Properties: age, height, weight). They are represented using variables\n",
    "         - 2. Methods(Behaviour/Actions: eat, drink, walk, run). They are represented using functions\n",
    " - One class can have multiple objects\n",
    " - Objects in real-world: camera, laptop, mobile, etc.\n",
    " \n",
    " "
   ]
  },
  {
   "cell_type": "markdown",
   "metadata": {},
   "source": [
    "# Creating an empty class:\n",
    "   - To create an empty class (without attributes and methods), use the pass keyword                 \n",
    "   - pass is a special keyword that does nothing(only works as a dummy statement)\n",
    "   - Object of an empty class can be created"
   ]
  },
  {
   "cell_type": "code",
   "execution_count": 3,
   "metadata": {},
   "outputs": [
    {
     "data": {
      "text/plain": [
       "__main__.Employee"
      ]
     },
     "execution_count": 3,
     "metadata": {},
     "output_type": "execute_result"
    }
   ],
   "source": [
    "# Empty class\n",
    "class Employee:\n",
    "    pass\n",
    "emp1=Employee()\n",
    "type(emp1)"
   ]
  },
  {
   "cell_type": "markdown",
   "metadata": {},
   "source": [
    "## Constructor\n",
    "- It is a special method which is used for initializing the instance variable during object creation.   \n",
    "- Every object occupies some space in heap memory and every space will have some address.Constructor calculates the amount of space that the object will take and allocates memory to it. \n",
    "- In python __init__() method is a constructor. Whenever new object is created, it will be called automatically.It is called once for each object.\n",
    "- No. of times of __init__() execution=No. of objects created\n",
    "\n",
    "An object cannot be created without a constructor in our program. If we don't declare constructor, python does it for us. When we declare a constructor, python doesn't create one.\n",
    "- Constructor is of two types:\n",
    "    - **Default Constructor:**  Constructor that doesn't accept any arguments during the object creation. Its definition has only one argument which is a reference to the object that has to be created.\n",
    "    - **Parameterized Constructor:** Constructor that accepts arguments during the object creation. Its definition has more than one argument."
   ]
  },
  {
   "cell_type": "code",
   "execution_count": 12,
   "metadata": {},
   "outputs": [
    {
     "name": "stdout",
     "output_type": "stream",
     "text": [
      "Object of class A2 is created\n",
      "Object name is a3\n"
     ]
    }
   ],
   "source": [
    "# constructor is not declared, so python creates the one and object can be created\n",
    "class A1:\n",
    "    def m1(self):\n",
    "        print('method1')\n",
    "\n",
    "class A2:\n",
    "    def __init__(self):   # Default constructor\n",
    "        print('Object of class A2 is created')\n",
    "    def m1(self):\n",
    "        print('method 1 in class A2')\n",
    "\n",
    "class A3:\n",
    "    def __init__(self,name):  # Parameterized constructor\n",
    "        self.name=name\n",
    "        print('Object name is',self.name)\n",
    "    def m1(self):\n",
    "        print('method 1 in class A3')\n",
    "a1=A1()\n",
    "a2=A2()\n",
    "a3=A3('a3')\n",
    "        "
   ]
  },
  {
   "cell_type": "code",
   "execution_count": 6,
   "metadata": {},
   "outputs": [
    {
     "name": "stdout",
     "output_type": "stream",
     "text": [
      "Student name is Jyothsna\n",
      "Student Id is 19EE64R03\n"
     ]
    }
   ],
   "source": [
    "# Creation of Class\n",
    "class Student:\n",
    "    college='IIT Kharagpur'     # class variable\n",
    "    def __init__(self,name,Id):    # __init__ is a constructor\n",
    "        self.name=name     # instance variable\n",
    "        self.Id=Id\n",
    "        \n",
    "    def print_details(self):\n",
    "        print('Student name is {}\\nStudent Id is {}'.format(self.name,self.Id))\n",
    "        \n",
    "s1=Student('Jyothsna','19EE64R03')   # Object creation\n",
    "s1.print_details()\n",
    "        \n",
    "        "
   ]
  },
  {
   "cell_type": "markdown",
   "metadata": {},
   "source": [
    "# Self:\n",
    "- It is a pointer that points to the object of the class.\n",
    "- In __init__() method, it refers to the newly created object. In other methods, it refers to the object whose method was called.\n",
    "- Each class can have any no. of objects. Variables and Methods are different for different objects. So in order to make program aware of whose method it has to call, self(first argument of instance method) is used.\n",
    "- self is not a keyword and user can use any other parameter name in place of it.\n",
    "- It differentiates class variable and  instance variable\n"
   ]
  },
  {
   "cell_type": "code",
   "execution_count": 13,
   "metadata": {},
   "outputs": [
    {
     "name": "stdout",
     "output_type": "stream",
     "text": [
      "\n",
      " Name:Student1 Id:1\n",
      "\n",
      " Name:Student2 Id:2\n"
     ]
    }
   ],
   "source": [
    "#self\n",
    "class Student:\n",
    "    def __init__(self,name,Id):\n",
    "        self.name=name\n",
    "        self.Id=Id\n",
    "    def print_details(self):\n",
    "        print('\\n Name:{} Id:{}'.format(self.name,self.Id))\n",
    "s1=Student('Student1',1)\n",
    "s2=Student('Student2',2)  \n",
    "s1.print_details()  # It calls print_details method of object s1\n",
    "s2.print_details()  # It calls print_details method of object s2"
   ]
  },
  {
   "cell_type": "code",
   "execution_count": 20,
   "metadata": {},
   "outputs": [
    {
     "name": "stdout",
     "output_type": "stream",
     "text": [
      "\n",
      " Name:Student1 Id:1\n",
      "\n",
      " Name:Student2 Id:2\n",
      "diff name\n"
     ]
    }
   ],
   "source": [
    "#use another parameter name\n",
    "class Student:\n",
    "    def __init__(obj,name,Id):\n",
    "        obj.name=name\n",
    "        obj.Id=Id\n",
    "    def print_details(obj):\n",
    "        print('\\n Name:{} Id:{}'.format(obj.name,obj.Id))\n",
    "    def get_details(obj1):\n",
    "        print('diff name')\n",
    "s1=Student('Student1',1)\n",
    "s2=Student('Student2',2)  \n",
    "s1.print_details()  # It calls print_details method of object s1\n",
    "s2.print_details()  # It calls print_details method of object s2\n",
    "s2.get_details()"
   ]
  },
  {
   "cell_type": "markdown",
   "metadata": {},
   "source": [
    "# Features of OOPs:\n",
    "- Inheritance\n",
    "- Polymorphism\n",
    "- Abstraction\n",
    "- Encapsulation\n",
    "\n",
    "## Inheritance:\n",
    "    It is a way of creating a new class using the details of an existing class without modifying it.\n",
    "    New class is called as a child/derived/sub class and the existing class is called as a parent/basic/super class.\n",
    "\n",
    "##### Types:  \n",
    "\n",
    "\n",
    "* **Single Inheritance** : Class inherits only one super class\n",
    "* __Multilevel Inheritance__: Class which inherits a super class will be inherited by another class forming a parent, child, grandchild relationship\n",
    "- __Hierarchial Inheritance__: Super class will be inherited by multiple derived classes\n",
    "- __Multiple Inheritance__: Class inherits multiple super classes\n",
    "- __Hybrid Inheritance__ : It is a combination of Multilevel and Multiple inheritance\n",
    "\n",
    "![](Inheritance.png)\n",
    "\n",
    "      \n",
    "      \n",
    "    \n",
    "    \n"
   ]
  },
  {
   "cell_type": "markdown",
   "metadata": {},
   "source": [
    "### Single Inheritance"
   ]
  },
  {
   "cell_type": "code",
   "execution_count": 28,
   "metadata": {},
   "outputs": [
    {
     "name": "stdout",
     "output_type": "stream",
     "text": [
      "Single Inheritance\n",
      "Object creation\n",
      "method1\n",
      "method2\n"
     ]
    }
   ],
   "source": [
    "# Single Inheritance\n",
    "class A:\n",
    "    def __init__(self):\n",
    "        print(\"Object creation\")\n",
    "    def m1(self):\n",
    "        print(\"method1\")\n",
    "        \n",
    "class B(A):  # B inherits A\n",
    "    def m2(self):\n",
    "        print(\"method2\")\n",
    "\n",
    "print('Single Inheritance')\n",
    "b=B() #creates object for class B\n",
    "b.m1()\n",
    "b.m2()\n",
    "\n"
   ]
  },
  {
   "cell_type": "markdown",
   "metadata": {},
   "source": [
    "# Multilevel Inheritance"
   ]
  },
  {
   "cell_type": "code",
   "execution_count": 29,
   "metadata": {},
   "outputs": [
    {
     "name": "stdout",
     "output_type": "stream",
     "text": [
      "Multilevel Inheritance\n",
      "method1 for object a\n",
      "method1 for object b\n",
      "method2 for object b\n",
      "method1 for object c\n",
      "method2 for object c\n",
      "method3 for object c\n"
     ]
    }
   ],
   "source": [
    "# Multilevel Inheritance\n",
    "class A:\n",
    "    def __init__(self,name):\n",
    "        self.name=name\n",
    "    def m1(self):\n",
    "        print('method1 for',self.name)\n",
    "class B(A):  # B inherits A\n",
    "    def m2(self):\n",
    "        print('method2 for',self.name)\n",
    "class C(B): # C inherits B\n",
    "    def m3(self):\n",
    "        print('method3 for',self.name)\n",
    "print('Multilevel Inheritance')\n",
    "a=A('object a')\n",
    "a.m1()\n",
    "b=B('object b')\n",
    "b.m1()\n",
    "b.m2()\n",
    "c=C('object c')\n",
    "c.m1()\n",
    "c.m2()\n",
    "c.m3()"
   ]
  },
  {
   "cell_type": "markdown",
   "metadata": {},
   "source": [
    "# Hierarchial Inheritance"
   ]
  },
  {
   "cell_type": "code",
   "execution_count": 31,
   "metadata": {},
   "outputs": [
    {
     "name": "stdout",
     "output_type": "stream",
     "text": [
      "class B inherits class A\n",
      "class C inherits class A\n"
     ]
    }
   ],
   "source": [
    "class A:\n",
    "    def __init__(self,name):\n",
    "        self.name=name\n",
    "        print('{} inherits class A'.format(self.name))\n",
    "class B(A):        # B inherits A\n",
    "    def m1(self):\n",
    "        print('class B')\n",
    "class  C(A):      # C inherits A\n",
    "    def m2(self):\n",
    "        print('class C')\n",
    "b=B('class B')\n",
    "c=C('class C')\n",
    "\n",
    "    "
   ]
  },
  {
   "cell_type": "markdown",
   "metadata": {},
   "source": [
    "# Multiple Inheritance"
   ]
  },
  {
   "cell_type": "code",
   "execution_count": 33,
   "metadata": {},
   "outputs": [
    {
     "name": "stdout",
     "output_type": "stream",
     "text": [
      "constructor of class A1\n",
      "method 1 of class B is inherited from class A1\n",
      "method 2 of class B is inherited from class A2\n",
      "method 3 is of own class\n"
     ]
    }
   ],
   "source": [
    "class A1:\n",
    "    def __init__(self,name):\n",
    "        self.name=name\n",
    "        print('constructor of class A1')\n",
    "    def m1(self):\n",
    "        print('method 1 of {} is inherited from class A1'.format(self.name))\n",
    "        \n",
    "class A2:\n",
    "    def __init__(self,name):\n",
    "        self.name=name\n",
    "    def m2(self):\n",
    "        print('method 2 of {} is inherited from class A2'.format(self.name))\n",
    "        \n",
    "class B(A1,A2):\n",
    "    def m3(self):\n",
    "        print('method 3 is of own class')\n",
    "b=B('class B')\n",
    "b.m1()\n",
    "b.m2()\n",
    "b.m3()\n",
    "        "
   ]
  },
  {
   "cell_type": "markdown",
   "metadata": {},
   "source": [
    "# Polymorphism\n",
    "- Ability to use a common interface for multiple forms of data types.\n",
    "- Different classes can be used with the same interface.\n",
    "- It is a way of making a function accept objects of different classes if they behave similarly\n",
    "\n",
    "\n",
    "Polymorphism includes:\n",
    "1. **Operator Overloadig:** Giving an extended meaning beyond their predefined operational meaning\n",
    "       '+' adds two integers, concatenates two strings, merges two lists. It is achievable because + is overloaded by int, string and list classes\n",
    "       \n",
    "2. **Method Overloading:** It is the ability to create multiple functions of the same name with different types of arguments\n",
    "\n",
    "3. **Method Overriding:** Redefining the methods in child class which are present in parent class\n",
    "\n",
    "##### Types of polymorphism:\n",
    "- **Compile time/Static Polymorphism:** Compiler itself determines which method should be called. Eg: Method Overloading\n",
    "\n",
    "- **Run time/Dynamic Polymorphism:** Compiler cannot determine the method that has to be called at compile time. It is resolved at runtime. Eg: Method Overriding\n",
    "\n",
    "**Note:** Compile time is the time at which the source code is converted to an executable code. Runtime is the time at which the executable code is started running"
   ]
  },
  {
   "cell_type": "markdown",
   "metadata": {},
   "source": [
    "## Operator overloading\n",
    "Create a class named student and objects named s1 and s2. If we ask python to perform addition of s1 and s2, python gives error as it doesn't know what addition means for Student class. Therefore, s1+s2 gives an error.\n",
    "\n",
    "Operator overloading can be achieved using **magic** methods. Magic methods are the special methods which add **magic** to our class.\n",
    "For example when we use + operator, internally, the __add__() method will be called, we can overload the operator '+' by defining this method in Student class.\n",
    "Similarly, there are different methods for different methods. We can overload any operator by defining corresponding method.\n",
    "\n",
    "| Operator | Magic method|\n",
    "|:-|:-|\n",
    "| + |__add__()|\n",
    "| - |__sub__()|\n",
    "| * |__mul__()|\n",
    "| // |__floordiv__()|\n",
    "| / |__div__()|\n",
    "| % |__mod__()|\n",
    "\n"
   ]
  },
  {
   "cell_type": "code",
   "execution_count": 34,
   "metadata": {},
   "outputs": [
    {
     "name": "stdout",
     "output_type": "stream",
     "text": [
      "55\n"
     ]
    }
   ],
   "source": [
    "class Student:\n",
    "    def __init__(self,name,marks):\n",
    "        self.name=name\n",
    "        self.marks=marks\n",
    "    def __add__(self,other):   # overloading the operator + \n",
    "        return self.marks+other.marks\n",
    "s1=Student('S1',25)\n",
    "s2=Student('S2',30)\n",
    "print(s1+s2)"
   ]
  },
  {
   "cell_type": "markdown",
   "metadata": {},
   "source": [
    "## Method Overloading\n",
    "\n",
    "- In this, more than one method of the same class shares the same method name having different signatures(type/no. of parameters)\n",
    "- It is used to add more to the behaviour of methods.\n",
    "- There is no need of more than one class for method overloading.\n",
    "- Python does not support method overloading by default.\n",
    "- The problem is that we may overload the methods but can only use the latest defined method."
   ]
  },
  {
   "cell_type": "code",
   "execution_count": 58,
   "metadata": {},
   "outputs": [
    {
     "name": "stdout",
     "output_type": "stream",
     "text": [
      "6\n"
     ]
    }
   ],
   "source": [
    "class A:\n",
    "    def add(self,a,b):\n",
    "        return a+b\n",
    "    def add(self,a,b,c):\n",
    "        return a+b+c\n",
    "a=A()\n",
    "print(a.add(1,2,3))\n",
    "# print(a.add(1,2))  # gives a Type error: add() missing 1 required positional argument"
   ]
  },
  {
   "cell_type": "markdown",
   "metadata": {},
   "source": [
    "### Methods to implement overloading\n",
    "**Method1:**\n",
    "Using the arguments to make the same function work differently i.e as per the arguments\n"
   ]
  },
  {
   "cell_type": "code",
   "execution_count": 59,
   "metadata": {},
   "outputs": [
    {
     "name": "stdout",
     "output_type": "stream",
     "text": [
      "6\n",
      "10\n",
      "10\n"
     ]
    }
   ],
   "source": [
    "class A:\n",
    "    def add(self,*args):\n",
    "        self.summ=0\n",
    "        a=[ele for ele in args]\n",
    "        return sum(a)\n",
    "    def add1(self,a,b,c=0,d=0):\n",
    "        return a+b+c+d\n",
    "a=A()\n",
    "print(a.add(1,2,3))\n",
    "print(a.add(1,2,3,4))\n",
    "print(a.add1(1,2,3,4))"
   ]
  },
  {
   "cell_type": "markdown",
   "metadata": {},
   "source": [
    "## Method Overriding\n",
    "- In method overriding, the specific implementation of the method that is already provided by the parent class is overridden (changes the implementaion) by the child class\n",
    "- It is used ot change the behaviour of existing methods\n",
    "- Atleast two classes are needed to implement method overriding"
   ]
  },
  {
   "cell_type": "code",
   "execution_count": 64,
   "metadata": {},
   "outputs": [
    {
     "name": "stdout",
     "output_type": "stream",
     "text": [
      "Parent class\n",
      "Child class\n",
      "speaks telugu\n",
      "speaks telugu\n",
      "age is 30\n",
      "age is 10\n",
      "Parent lives in Hyderabad\n",
      "child lives in Bangalore\n"
     ]
    }
   ],
   "source": [
    "class Parent:\n",
    "    def __init__(self,age):\n",
    "        self.age=age\n",
    "        print(\"Parent class\")\n",
    "    def speak(self):\n",
    "        print(\"speaks telugu\")\n",
    "    def eat(self):\n",
    "        print(\"eats rice\")\n",
    "    def print_age(self):\n",
    "        print(\"age is {}\".format(self.age))\n",
    "    def lives(self):\n",
    "        print('Parent lives in Hyderabad')\n",
    "        \n",
    "class Child(Parent):\n",
    "    def __init__(self,age):   # It overrides __init__ method of parent\n",
    "        self.age=age\n",
    "        print('Child class')\n",
    "    def lives(self):\n",
    "        print('child lives in Bangalore')   # overrides lives method of parent\n",
    "        \n",
    "p=Parent(30)\n",
    "c=Child(10)\n",
    "p.speak()\n",
    "c.speak()\n",
    "p.print_age()\n",
    "c.print_age()\n",
    "p.lives()\n",
    "c.lives()\n",
    "        \n",
    "        "
   ]
  },
  {
   "cell_type": "markdown",
   "metadata": {},
   "source": [
    "# Abstraction\n",
    "- Process of displaying only important informataion and hiding the implementation details.\n",
    "- Eg: Withdrawal of  Money from ATM\n",
    "- In python it can be implemented using abstract classes\n",
    "- **Abstract Class:**  It is a class that contains one or more abstract methods.\n",
    "- **Abstract Method:** It is a method that is declared, but contains no implements\n",
    "- It is not possible to create an object directly for an abstract class. It requires subclasses to provide implementations for the abstract methods\n",
    "- Create an object for subclass which is extended\n",
    "\n",
    "By default python doesn't provide abstract class. It has a module named 'ABC' that provides base for defining Abstract Base Classes. A method becomes abstract when decorated with the keyword **@abstractmethod** "
   ]
  },
  {
   "cell_type": "code",
   "execution_count": 65,
   "metadata": {},
   "outputs": [
    {
     "name": "stdout",
     "output_type": "stream",
     "text": [
      "Three sides\n"
     ]
    }
   ],
   "source": [
    "from abc import ABC, abstractmethod\n",
    "class Polygon(ABC):\n",
    "    @abstractmethod\n",
    "    def noOfSides(self):\n",
    "        pass\n",
    "    \n",
    "class Triangle(Polygon):\n",
    "    def noOfSides(self):\n",
    "        print(\"Three sides\")\n",
    "\n",
    "t=Triangle()\n",
    "t.noOfSides()\n",
    "        "
   ]
  },
  {
   "cell_type": "markdown",
   "metadata": {},
   "source": [
    "# Encapsulation\n",
    "- It is a process of wrapping code and data together into a single unit.\n",
    "- It prevents data from direct modification by restricting access to methods and variables.\n",
    "- It allows data-hiding as the data specified in one class is hidden from other classes.\n",
    "- It cab be achieved using access specifiers (private).\n",
    "- **Access specifiers/modifiers:** These are the keywords that determine the accessibility of methods, classes, etc. Eg: public, private and protected.\n",
    "- In python, there is no existence of private keyword.\n",
    "- To define a private member, prefix the member name with double underscore \"__\" (Atleast two leading underscores or one trailing underscore is needed)"
   ]
  },
  {
   "cell_type": "code",
   "execution_count": 75,
   "metadata": {},
   "outputs": [
    {
     "name": "stdout",
     "output_type": "stream",
     "text": [
      "password is P@ssw0rd\n",
      "executing\n"
     ]
    }
   ],
   "source": [
    "# Encapsulation\n",
    "class Laptop:\n",
    "    __password='P@ssw0rd'\n",
    "    def __specifications(self):\n",
    "        print('i5, 8GB Ram')\n",
    "        \n",
    "    def __updateSoftware(self):\n",
    "        print('updating software')\n",
    "    \n",
    "    def printpassword(self):\n",
    "        print('password is',self.__password)\n",
    "        \n",
    "class Windows(Laptop):\n",
    "    def execute(self):\n",
    "        print(\"executing\")\n",
    "    def accessLaptop(self):\n",
    "        print(self.__password) \n",
    "\n",
    "l1=Laptop()\n",
    "# l1.__password  # AttributeError: 'Laptop' object has no attribute '__password'\n",
    "l1.printpassword()\n",
    "w1=Windows()\n",
    "w1.execute()\n",
    "# w1.accessLaptop()  # AttributeError: 'Windows object has no attribute '_Windows__password'"
   ]
  }
 ],
 "metadata": {
  "kernelspec": {
   "display_name": "Python 3",
   "language": "python",
   "name": "python3"
  },
  "language_info": {
   "codemirror_mode": {
    "name": "ipython",
    "version": 3
   },
   "file_extension": ".py",
   "mimetype": "text/x-python",
   "name": "python",
   "nbconvert_exporter": "python",
   "pygments_lexer": "ipython3",
   "version": "3.7.6"
  }
 },
 "nbformat": 4,
 "nbformat_minor": 4
}
